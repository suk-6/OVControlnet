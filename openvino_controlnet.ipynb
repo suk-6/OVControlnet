{
  "nbformat": 4,
  "nbformat_minor": 0,
  "metadata": {
    "colab": {
      "provenance": [],
      "authorship_tag": "ABX9TyP+coMhALJqrexelFWfEm05",
      "include_colab_link": true
    },
    "kernelspec": {
      "name": "python3",
      "display_name": "Python 3"
    },
    "language_info": {
      "name": "python"
    }
  },
  "cells": [
    {
      "cell_type": "markdown",
      "metadata": {
        "id": "view-in-github",
        "colab_type": "text"
      },
      "source": [
        "<a href=\"https://colab.research.google.com/github/suk-6/OVControlnet/blob/main/openvino_controlnet.ipynb\" target=\"_parent\"><img src=\"https://colab.research.google.com/assets/colab-badge.svg\" alt=\"Open In Colab\"/></a>"
      ]
    },
    {
      "cell_type": "markdown",
      "source": [
        "# Text-to-Image Generation with ControlNet Conditioning (For beginner)"
      ],
      "metadata": {
        "id": "1LM2hRmheYHL"
      }
    },
    {
      "cell_type": "markdown",
      "source": [
        "본 코드는 Colab Basic에서 **사용이 불가능**합니다.\n",
        "\n",
        "Author: https://suk.kr"
      ],
      "metadata": {
        "id": "QFLSr19RfOID"
      }
    },
    {
      "cell_type": "markdown",
      "source": [
        "## Installing requirements"
      ],
      "metadata": {
        "id": "bWgS89stead_"
      }
    },
    {
      "cell_type": "code",
      "execution_count": null,
      "metadata": {
        "id": "cSB9vijheQbD"
      },
      "outputs": [],
      "source": [
        "!pip install gradio\n",
        "!pip install ovcontrolnet-tools"
      ]
    },
    {
      "cell_type": "markdown",
      "source": [
        "## Start"
      ],
      "metadata": {
        "id": "dOdFfQlnezP0"
      }
    },
    {
      "cell_type": "markdown",
      "source": [
        "### Import Modules"
      ],
      "metadata": {
        "id": "8xkUcORDep7Z"
      }
    },
    {
      "cell_type": "code",
      "source": [
        "import gradio as gr\n",
        "from ovcontrolnet_tools import *"
      ],
      "metadata": {
        "id": "rpuSbYITetbF"
      },
      "execution_count": null,
      "outputs": []
    },
    {
      "cell_type": "markdown",
      "source": [
        "### Convert models to OpenVINO Intermediate representation (IR) format"
      ],
      "metadata": {
        "id": "Mg1UyPhUevJW"
      }
    },
    {
      "cell_type": "code",
      "source": [
        "IRConversion()"
      ],
      "metadata": {
        "id": "eHdfZ-o8eyp0"
      },
      "execution_count": null,
      "outputs": []
    },
    {
      "cell_type": "markdown",
      "source": [
        "### Running Text-to-Image Generation with ControlNet Conditioning and OpenVINO"
      ],
      "metadata": {
        "id": "8ZKaN_D5e-au"
      }
    },
    {
      "cell_type": "code",
      "source": [
        "ov_pipe = getOVPipe()\n",
        "negative_prompt = \"monochrome, lowres, bad anatomy, worst quality, low quality\""
      ],
      "metadata": {
        "id": "sRtZArV-fFhr"
      },
      "execution_count": null,
      "outputs": []
    },
    {
      "cell_type": "code",
      "source": [
        "def ovControlNet(image, prompt):\n",
        "    pose = pose_estimator(image)\n",
        "    result = ov_pipe(prompt, pose, 20, negative_prompt=negative_prompt)[0]\n",
        "    return result, pose"
      ],
      "metadata": {
        "id": "Rizwftr1fIk2"
      },
      "execution_count": null,
      "outputs": []
    },
    {
      "cell_type": "code",
      "source": [
        "ovDemo = gr.Interface(\n",
        "    fn=ovControlNet,\n",
        "    inputs=[gr.Image(width=512, height=512, type=\"numpy\"), gr.Textbox(label=\"Prompt\")],\n",
        "    outputs=[\n",
        "        gr.Image(label=\"Generated Image\", type=\"numpy\", show_label=True),\n",
        "        gr.Image(label=\"Pose Estimation\", type=\"numpy\", show_label=True),\n",
        "    ],\n",
        ")"
      ],
      "metadata": {
        "id": "a6_S6KzffKNH"
      },
      "execution_count": null,
      "outputs": []
    },
    {
      "cell_type": "code",
      "source": [
        "ovDemo.launch(share=True)"
      ],
      "metadata": {
        "id": "5jDmC1ryfMTc"
      },
      "execution_count": null,
      "outputs": []
    }
  ]
}